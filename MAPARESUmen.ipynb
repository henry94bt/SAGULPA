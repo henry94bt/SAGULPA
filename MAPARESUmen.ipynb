{
 "cells": [
  {
   "cell_type": "code",
   "execution_count": 7,
   "id": "e9bd9cf9-cf02-4209-bac0-2f2750f7aa93",
   "metadata": {},
   "outputs": [
    {
     "name": "stdout",
     "output_type": "stream",
     "text": [
      "✅ Mapa generado: mapa_aparcamientos.html\n"
     ]
    }
   ],
   "source": [
    "import folium\n",
    "import pandas as pd\n",
    "\n",
    "# Crear el DataFrame con los datos proporcionados\n",
    "data = {\n",
    "    'APARCAMIENTO': ['ELDER', 'ELDER', 'MATA', 'MATA', 'METROPOL', 'METROPOL', 'NUEVOS JUZGADOS', 'NUEVOS JUZGADOS', 'RINCÓN', 'RINCÓN', 'SAN BERNARDO', 'SAN BERNARDO', 'SANAPÚ', 'SANAPÚ', 'VEGUETA', 'VEGUETA'],\n",
    "    'Localización': ['28.1413136298267, -15.429994462238238', '28.1413136298267, -15.429994462238238', '28.107884401360366, -15.421643164224708', '28.107884401360366, -15.421643164224708', '28.12445152742904, -15.428219517110417', '28.12445152742904, -15.428219517110417', '28.09599206803251, -15.415165449724524', '28.09599206803251, -15.415165449724524', '28.128456520332747, -15.451386410554496', '28.128456520332747, -15.451386410554496', '28.104971887363224, -15.419031581531359', '28.104971887363224, -15.419031581531359', '28.145509226902533, -15.42847475140383', '28.145509226902533, -15.42847475140383', '28.102732314400676, -15.412816498162709', '28.102732314400676, -15.412816498162709'],\n",
    "    'MovementTypeDesig': ['ENTRADA', 'SALIDA', 'ENTRADA', 'SALIDA', 'ENTRADA', 'SALIDA', 'ENTRADA', 'SALIDA', 'ENTRADA', 'SALIDA', 'ENTRADA', 'SALIDA', 'ENTRADA', 'SALIDA', 'ENTRADA', 'SALIDA'],\n",
    "    'Cuenta de APARCAMIENTO': [12779, 12860, 6838, 6846, 16978, 16984, 12469, 12469, 37431, 37544, 26960, 27041, 13070, 13213, 30711, 30772]\n",
    "}\n",
    "\n",
    "df = pd.DataFrame(data)\n",
    "\n",
    "# Crear un mapa centrado en Las Palmas\n",
    "m = folium.Map(location=[28.1248, -15.4300], zoom_start=13)\n",
    "\n",
    "# Función para obtener coordenadas\n",
    "def obtener_coordenadas(localizacion):\n",
    "    return list(map(float, localizacion.split(', ')))\n",
    "\n",
    "# Agregar marcadores al mapa\n",
    "for _, row in df.drop_duplicates(subset=['APARCAMIENTO']).iterrows():\n",
    "    lat, lon = obtener_coordenadas(row['Localización'])\n",
    "    \n",
    "    entradas = df[(df['APARCAMIENTO'] == row['APARCAMIENTO']) & (df['MovementTypeDesig'] == 'ENTRADA')]['Cuenta de APARCAMIENTO'].values[0]\n",
    "    salidas = df[(df['APARCAMIENTO'] == row['APARCAMIENTO']) & (df['MovementTypeDesig'] == 'SALIDA')]['Cuenta de APARCAMIENTO'].values[0]\n",
    "    \n",
    "    popup_content = f\"\"\"\n",
    "    <b>Aparcamiento:</b> {row['APARCAMIENTO']}<br>\n",
    "    <b>Entradas:</b> {entradas}<br>\n",
    "    <b>Salidas:</b> {salidas}\n",
    "    \"\"\"\n",
    "    \n",
    "    folium.Marker(\n",
    "        location=[lat, lon],\n",
    "        popup=folium.Popup(popup_content, max_width=250),\n",
    "        tooltip=row['APARCAMIENTO']\n",
    "    ).add_to(m)\n",
    "\n",
    "# Guardar el mapa como HTML\n",
    "m.save(\"mapa_aparcamientos.html\")\n",
    "print(\"✅ Mapa generado: mapa_aparcamientos.html\")\n"
   ]
  },
  {
   "cell_type": "code",
   "execution_count": null,
   "id": "1ccc19c6-2c64-4ccf-9c96-1393d7a44d4b",
   "metadata": {},
   "outputs": [],
   "source": []
  }
 ],
 "metadata": {
  "kernelspec": {
   "display_name": "Python 3 (ipykernel)",
   "language": "python",
   "name": "python3"
  },
  "language_info": {
   "codemirror_mode": {
    "name": "ipython",
    "version": 3
   },
   "file_extension": ".py",
   "mimetype": "text/x-python",
   "name": "python",
   "nbconvert_exporter": "python",
   "pygments_lexer": "ipython3",
   "version": "3.12.4"
  }
 },
 "nbformat": 4,
 "nbformat_minor": 5
}
